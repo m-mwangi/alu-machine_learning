{
  "nbformat": 4,
  "nbformat_minor": 0,
  "metadata": {
    "colab": {
      "provenance": [],
      "include_colab_link": true
    },
    "kernelspec": {
      "name": "python3",
      "display_name": "Python 3"
    },
    "language_info": {
      "name": "python"
    }
  },
  "cells": [
    {
      "cell_type": "markdown",
      "metadata": {
        "id": "view-in-github",
        "colab_type": "text"
      },
      "source": [
        "<a href=\"https://colab.research.google.com/github/m-mwangi/alu-machine_learning/blob/main/Formative_Assignment_PCA_%5BMarion_Wandia_Mwangi%5D.ipynb\" target=\"_parent\"><img src=\"https://colab.research.google.com/assets/colab-badge.svg\" alt=\"Open In Colab\"/></a>"
      ]
    },
    {
      "cell_type": "markdown",
      "source": [
        "\n",
        "\n",
        "<center>\n",
        "    <img src=\"https://miro.medium.com/v2/resize:fit:300/1*mgncZaKaVx9U6OCQu_m8Bg.jpeg\">\n",
        "</center>\n",
        "\n",
        "\n",
        "\n",
        "The goal of PCA is to extract information while reducing the number of features\n",
        "from a dataset by identifying which existing features relate to another. The crux of the algorithm is trying to determine the relationship between existing features, called principal components, and then quantifying how relevant these principal components are. The principal components are used to transform the high dimensional data to a lower dimensional data while preserving as much information. For a principal component to be relevant, it needs to capture information about the features. We can determine the relationships between features using covariance."
      ],
      "metadata": {
        "id": "xyATLU4z1cYj"
      }
    },
    {
      "cell_type": "code",
      "source": [
        "#import necessary package\n",
        "import numpy as np\n",
        "import pandas as pd\n",
        "import matplotlib.pyplot as plt\n",
        "from sklearn.decomposition import PCA\n",
        "from sklearn.preprocessing import StandardScaler\n"
      ],
      "metadata": {
        "id": "UTntK0eUNimH"
      },
      "execution_count": 83,
      "outputs": []
    },
    {
      "cell_type": "code",
      "source": [
        "\n",
        "data = np.array([\n",
        "    [   1,   2,  -1,   4,  10],\n",
        "    [   3,  -3,  -3,  12, -15],\n",
        "    [   2,   1,  -2,   4,   5],\n",
        "    [   5,   1,  -5,  10,   5],\n",
        "    [   2,   3,  -3,   5,  12],\n",
        "    [   4,   0,  -3,  16,   2],\n",
        "])"
      ],
      "metadata": {
        "id": "qWaiAdz8PyKp"
      },
      "execution_count": 84,
      "outputs": []
    },
    {
      "cell_type": "markdown",
      "source": [
        "### Step 1: Standardize the Data along the Features\n",
        "\n",
        "![image.png](https://encrypted-tbn0.gstatic.com/images?q=tbn:ANd9GcQLxe5VYCBsaZddkkTZlCY24Yov4JJD4-ArTA&usqp=CAU)\n",
        "\n",
        "\n",
        "\n",
        "\n",
        "Explain why we need to handle the data on the same scale.\n",
        "\n",
        "It ensures that it contributes equally to the analysis."
      ],
      "metadata": {
        "id": "U2U2_Q5ebos3"
      }
    },
    {
      "cell_type": "code",
      "source": [
        "# Calculate the mean (μ) and standard deviation (σ) for each feature (column-wise)\n",
        "mean = np.mean(data, axis = 0)\n",
        "standard_dev = np.std(data, axis = 0)\n",
        "\n",
        "standardized_data = (data - mean) / standard_dev\n",
        "# Print the standardized data\n",
        "print(standardized_data)"
      ],
      "metadata": {
        "id": "JF3eGB7FRC0A",
        "colab": {
          "base_uri": "https://localhost:8080/"
        },
        "outputId": "47fd7ad9-b6c3-42da-8831-58f8e580011f"
      },
      "execution_count": 85,
      "outputs": [
        {
          "output_type": "stream",
          "name": "stdout",
          "text": [
            "[[-1.36438208  0.70710678  1.5109662  -0.99186978  0.77802924]\n",
            " [ 0.12403473 -1.94454365 -0.13736056  0.77145428 -2.06841919]\n",
            " [-0.62017367  0.1767767   0.68680282 -0.99186978  0.20873955]\n",
            " [ 1.61245155  0.1767767  -1.78568733  0.33062326  0.20873955]\n",
            " [-0.62017367  1.23743687 -0.13736056 -0.77145428  1.00574511]\n",
            " [ 0.86824314 -0.35355339 -0.13736056  1.65311631 -0.13283426]]\n"
          ]
        }
      ]
    },
    {
      "cell_type": "markdown",
      "source": [
        "![cov matrix.webp](https://dmitry.ai/uploads/default/original/1X/9bd2851674ebb55e404cc3ff5e2ffe65b42ff460.png)\n",
        "\n",
        "We use the pair - wise covariance of the different features to determine how they relate to each other. With these covariances, our goal is to group / cluster based on similar patterns. Intuitively, we can relate features if they have similar covariances with other features."
      ],
      "metadata": {
        "id": "7rzoiQ7fMk_d"
      }
    },
    {
      "cell_type": "markdown",
      "source": [
        "### Step 2: Calculate the Covariance Matrix\n",
        "\n"
      ],
      "metadata": {
        "id": "uuhux3UEcBgw"
      }
    },
    {
      "cell_type": "code",
      "execution_count": 86,
      "metadata": {
        "colab": {
          "base_uri": "https://localhost:8080/"
        },
        "id": "qn8oujZlK9YR",
        "outputId": "c6fe218a-e75b-45d9-feae-a73e0fb0de92",
        "collapsed": true
      },
      "outputs": [
        {
          "output_type": "stream",
          "name": "stdout",
          "text": [
            "[[  2.16666667  -1.06666667  -1.76666667   5.5         -4.36666667]\n",
            " [ -1.06666667   4.26666667   0.46666667  -6.6         19.66666667]\n",
            " [ -1.76666667   0.46666667   1.76666667  -3.3          2.36666667]\n",
            " [  5.5         -6.6         -3.3         24.7        -27.9       ]\n",
            " [ -4.36666667  19.66666667   2.36666667 -27.9         92.56666667]]\n"
          ]
        }
      ],
      "source": [
        "covariant_matrix = np.cov(data, rowvar=False)\n",
        "\n",
        "print(covariant_matrix)"
      ]
    },
    {
      "cell_type": "markdown",
      "source": [
        "### Step 3: Eigendecomposition on the Covariance Matrix\n"
      ],
      "metadata": {
        "id": "uXNcG4AFcT08"
      }
    },
    {
      "cell_type": "code",
      "source": [
        "\n",
        "\n",
        "eigenvalues, eigenvectors = np.linalg.eig(covariant_matrix)\n",
        "\n",
        "print(eigenvalues)\n",
        "print(eigenvectors)\n"
      ],
      "metadata": {
        "id": "dmGlQ47tRO5w",
        "colab": {
          "base_uri": "https://localhost:8080/"
        },
        "outputId": "6442e452-44e7-4c2c-ec1a-1a50456a613a"
      },
      "execution_count": 87,
      "outputs": [
        {
          "output_type": "stream",
          "name": "stdout",
          "text": [
            "[107.22475075  16.18237882   1.93173735   0.12757974   0.00022   ]\n",
            "[[-0.05817655 -0.2631212   0.57237125  0.6292347  -0.45148374]\n",
            " [ 0.19774895 -0.03283879  0.06849106 -0.60720902 -0.7657827 ]\n",
            " [ 0.0328828   0.17887983 -0.75671562  0.45776292 -0.42983171]\n",
            " [-0.33200499 -0.88598416 -0.30234056 -0.11461168  0.01609676]\n",
            " [ 0.91989252 -0.33574235 -0.06059523  0.11259736  0.15724145]]\n"
          ]
        }
      ]
    },
    {
      "cell_type": "markdown",
      "source": [
        "### Step 4: Sort the Principal Components\n",
        "# np.argsort can only provide lowest to highest; use [::-1] to reverse the list"
      ],
      "metadata": {
        "id": "4pWho88fcbJA"
      }
    },
    {
      "cell_type": "code",
      "source": [
        "# np.argsort can only provide lowest to highest; use [::-1] to reverse the list\n",
        "\n",
        "importance_order = np.argsort(eigenvalues)[::-1]\n",
        "print ( 'the order of importance is :\\n {}'.format(importance_order))\n",
        "\n",
        "# utilize the sort order to sort eigenvalues and eigenvectors\n",
        "sorted_eigenvalues = eigenvalues[importance_order]\n",
        "print('\\n\\n sorted eigen values:\\n{}'.format(sorted_eigenvalues))\n",
        "\n",
        "sorted_eigenvectors = eigenvectors[:, importance_order] # sort the columns\n",
        "print('\\n\\n The sorted eigen vector matrix is: \\n {}'.format(sorted_eigenvectors))"
      ],
      "metadata": {
        "colab": {
          "base_uri": "https://localhost:8080/"
        },
        "id": "_znKtzdrTmMg",
        "outputId": "ab91ba80-a5b6-4585-e8cd-257e0a3f6fe9"
      },
      "execution_count": 88,
      "outputs": [
        {
          "output_type": "stream",
          "name": "stdout",
          "text": [
            "the order of importance is :\n",
            " [0 1 2 3 4]\n",
            "\n",
            "\n",
            " sorted eigen values:\n",
            "[107.22475075  16.18237882   1.93173735   0.12757974   0.00022   ]\n",
            "\n",
            "\n",
            " The sorted eigen vector matrix is: \n",
            " [[-0.05817655 -0.2631212   0.57237125  0.6292347  -0.45148374]\n",
            " [ 0.19774895 -0.03283879  0.06849106 -0.60720902 -0.7657827 ]\n",
            " [ 0.0328828   0.17887983 -0.75671562  0.45776292 -0.42983171]\n",
            " [-0.33200499 -0.88598416 -0.30234056 -0.11461168  0.01609676]\n",
            " [ 0.91989252 -0.33574235 -0.06059523  0.11259736  0.15724145]]\n"
          ]
        }
      ]
    },
    {
      "cell_type": "markdown",
      "source": [
        "Question:\n",
        "\n",
        "1. Why do we order eigen values and eigen vectors?\n",
        "\n",
        "To help us prioritize the most important principal components in the PCA analysis.\n",
        "\n",
        "\n",
        "\n",
        "2. Is it true we would consider the lowest eigen value compared to the highest? Defend your answer\n",
        "\n",
        "NO. We are supposed to consider higher eigenvalues over lower ones because they capture more meaningful variance in the data, allowing for better data representation.\n"
      ],
      "metadata": {
        "id": "o1nILNGxpTJB"
      }
    },
    {
      "cell_type": "markdown",
      "source": [
        "You want to see what percentage of information each eigen value holds. You would have print out the percentage of each eigen value using the formula\n",
        "\n",
        "\n",
        "\n",
        "> (sorted eigen values / sum of all sorted eigen values) * 100\n",
        "\n"
      ],
      "metadata": {
        "id": "BWqFGNeNvgEB"
      }
    },
    {
      "cell_type": "code",
      "source": [
        "# use sorted_eigenvalues to ensure the explained variances correspond to the eigenvectors\n",
        "\n",
        "explained_variance = (sorted_eigenvalues / np.sum(sorted_eigenvalues)) * 100\n",
        "explained_variance =[\"{:.2f}%\".format(value) for value in explained_variance]\n",
        "print(explained_variance)"
      ],
      "metadata": {
        "colab": {
          "base_uri": "https://localhost:8080/"
        },
        "id": "bRMHrffrVOXR",
        "outputId": "c9fe38fb-c695-4764-a3cc-999ce2e63f39"
      },
      "execution_count": 89,
      "outputs": [
        {
          "output_type": "stream",
          "name": "stdout",
          "text": [
            "['85.46%', '12.90%', '1.54%', '0.10%', '0.00%']\n"
          ]
        }
      ]
    },
    {
      "cell_type": "markdown",
      "source": [
        "#Initialize the number of Principle components then perfrom matrix multiplication with the variable K example k = 3 for 3 priciple components\n",
        "\n",
        "\n",
        "\n",
        "\n",
        "> The reulting matrix (with reduced data) = standardized data * vector with columns k\n",
        "\n",
        "See expected output for k = 2\n",
        "\n"
      ],
      "metadata": {
        "id": "qB7H4InbfKx5"
      }
    },
    {
      "cell_type": "code",
      "source": [
        "k = 2\n",
        "\n",
        "reduced_data = np.matmul(standardized_data, sorted_eigenvectors[:, :k])# transform the original data"
      ],
      "metadata": {
        "id": "C-Rnyq6QVTiz"
      },
      "execution_count": 90,
      "outputs": []
    },
    {
      "cell_type": "code",
      "source": [
        "print(reduced_data)"
      ],
      "metadata": {
        "colab": {
          "base_uri": "https://localhost:8080/"
        },
        "id": "JxxBcgQMXe1h",
        "outputId": "903a886e-69cc-4c6e-8a89-dc8b60311872"
      },
      "execution_count": 91,
      "outputs": [
        {
          "output_type": "stream",
          "name": "stdout",
          "text": [
            "[[ 1.31389845  1.22362226]\n",
            " [-2.55511419  0.01760889]\n",
            " [ 0.61494463  1.08892909]\n",
            " [-0.03531847 -1.11250845]\n",
            " [ 1.45756867  0.44379893]\n",
            " [-0.7959791  -1.66145072]]\n"
          ]
        }
      ]
    },
    {
      "cell_type": "code",
      "source": [
        "print(reduced_data.shape)"
      ],
      "metadata": {
        "colab": {
          "base_uri": "https://localhost:8080/"
        },
        "id": "PNEqS6cuaMSY",
        "outputId": "08e94b1c-9e5c-41fa-825a-4436561ad7ff"
      },
      "execution_count": 92,
      "outputs": [
        {
          "output_type": "stream",
          "name": "stdout",
          "text": [
            "(6, 2)\n"
          ]
        }
      ]
    },
    {
      "cell_type": "markdown",
      "source": [
        "# *What are 2 positive effects and 2 negative effects of PCA\n",
        "\n",
        "Give 2 Benefits and 2 limitations\n",
        "\n",
        "Positive effects:\n",
        "\n",
        "* Helps in identifying patterns and clusters in the data.\n",
        "* Helps in reducing number of features in a dataset while maintaining the most important information.\n",
        "\n",
        "\n",
        "Negative effects:\n",
        "\n",
        "* Components of PCA are linear combinations of original features, which makes them difficult to interpret.\n",
        "* PCA assumes that the relationships in the data are linear.\n",
        "\n",
        "\n",
        "\n",
        "\n",
        "\n"
      ],
      "metadata": {
        "id": "UxQ8lTunauMQ"
      }
    },
    {
      "cell_type": "markdown",
      "source": [
        "## **Second PCA with Data from Previous Assignment**"
      ],
      "metadata": {
        "id": "JUQlahgQg3hJ"
      }
    },
    {
      "cell_type": "code",
      "source": [
        "#import necessary packages\n",
        "import numpy as np\n",
        "import pandas as pd\n",
        "import matplotlib.pyplot as plt\n",
        "from sklearn.decomposition import PCA\n",
        "from sklearn.preprocessing import StandardScaler\n"
      ],
      "metadata": {
        "id": "YiTgmURghLJF"
      },
      "execution_count": 93,
      "outputs": []
    },
    {
      "cell_type": "markdown",
      "source": [
        "**The data is here below for the first ten columns:**\n",
        "\n",
        "\n",
        "cylinders: [6, 4, 6, 6, 4, 6, 6, 4, 4, 6]\n",
        "\n",
        "displ: [3.8, 2.0, 3.6, 3.6, 2.4, 3.5, 3.5, 2.0, 2.0, 3.8]\n",
        "\n",
        "pv2: [79, 94, 94, 94, 0, 0, 0, 89, 89, 89]\n",
        "\n",
        "pv4: [0, 0, 0, 0, 95, 99, 99, 0, 0, 0]\n",
        "\n",
        "city: [16.4596, 21.8706, 17.4935, 16.9415, 24.7726, 19.4325, 18.5752, 17.4460, 20.6741, 16.4675]\n",
        "\n",
        "UCity: [20.2988, 26.9770, 21.2000, 20.5000, 31.9796, 24.1499, 23.5261, 21.7946, 26.2000, 20.4839]\n",
        "\n",
        "highway: [22.5568, 31.0367, 26.5716, 25.2190, 35.5340, 28.2234, 26.3573, 26.6295, 29.2741, 24.5605]\n",
        "\n",
        "UHighway: [30.1798, 42.4936, 35.1000, 33.5000, 51.8816, 38.5000, 36.2109, 37.6731, 41.8000, 34.4972]\n",
        "\n",
        "comb: [18.7389, 25.2227, 20.6716, 19.8774, 28.6813, 22.6002, 21.4213, 20.6507, 23.8235, 19.3344]\n",
        "\n",
        "co2: [471, 349, 429, 446, 310, 393, 412, 432, 375, 461]\n",
        "\n",
        "feScore: [4, 6, 5, 5, 8, 6, 5, 5, 6, 4]\n",
        "\n",
        "ghgScore: [4, 6, 5, 5, 8, 6, 5, 5, 6, 4]"
      ],
      "metadata": {
        "id": "3VZyqToel26L"
      }
    },
    {
      "cell_type": "code",
      "source": [
        "#Showing all the data we'll be workig with\n",
        "data_array = np.array([\n",
        "    [6, 3.8, 79, 0, 16.4596, 20.2988, 22.5568, 30.1798, 18.7389, 471, 4, 4],\n",
        "    [4, 2.0, 94, 0, 21.8706, 26.9770, 31.0367, 42.4936, 25.2227, 349, 6, 6],\n",
        "    [6, 3.6, 94, 0, 17.4935, 21.2000, 26.5716, 35.1000, 20.6716, 429, 5, 5],\n",
        "    [6, 3.6, 94, 0, 16.9415, 20.5000, 25.2190, 33.5000, 19.8774, 446, 5, 5],\n",
        "    [4, 2.4, 0, 95, 24.7726, 31.9796, 35.5340, 51.8816, 28.6813, 310, 8, 8],\n",
        "    [6, 3.5, 0, 99, 19.4325, 24.1499, 28.2234, 38.5000, 22.6002, 393, 6, 6],\n",
        "    [6, 3.5, 0, 99, 18.5752, 23.5261, 26.3573, 36.2109, 21.4213, 412, 5, 5],\n",
        "    [4, 2.0, 89, 0, 17.4460, 21.7946, 26.6295, 37.6731, 20.6507, 432, 5, 5],\n",
        "    [4, 2.0, 89, 0, 20.6741, 26.2000, 29.2741, 41.8000, 23.8235, 375, 6, 6],\n",
        "    [6, 3.8, 89, 0, 16.4675, 20.4839, 24.5605, 34.4972, 19.3344, 461, 4, 4]\n",
        "])\n",
        "\n",
        "\n"
      ],
      "metadata": {
        "id": "MqUNJvV6kGlI"
      },
      "execution_count": 94,
      "outputs": []
    },
    {
      "cell_type": "markdown",
      "source": [
        "Standardization of the data"
      ],
      "metadata": {
        "id": "6A-TW8lsr1P1"
      }
    },
    {
      "cell_type": "code",
      "source": [
        "# Calculate the mean (μ) and standard deviation (σ) for each feature (column-wise)\n",
        "mean = np.mean(data_array, axis=0)\n",
        "std_dev = np.std(data_array, axis=0)\n",
        "\n",
        "standardized_array = (data_array - mean) / std_dev\n",
        "\n",
        "# Print the standardized data\n",
        "print(standardized_array)"
      ],
      "metadata": {
        "colab": {
          "base_uri": "https://localhost:8080/"
        },
        "id": "m9quI07qmboJ",
        "outputId": "3c1855df-99a7-41a1-d2dc-80d684ddb494"
      },
      "execution_count": 95,
      "outputs": [
        {
          "output_type": "stream",
          "name": "stdout",
          "text": [
            "[[ 0.81649658  1.01928133  0.39205993 -0.65447944 -0.99013236 -0.9544673\n",
            "  -1.44377411 -1.38775261 -1.15515073  1.29947657 -1.25723711 -1.25723711]\n",
            " [-1.22474487 -1.33290635  0.75507839 -0.65447944  1.10783734  0.91357742\n",
            "   0.98565031  0.74729142  1.07175924 -1.20900668  0.53881591  0.53881591]\n",
            " [ 0.81649658  0.75792714  0.75507839 -0.65447944 -0.58926545 -0.70238112\n",
            "  -0.2935656  -0.53465741 -0.49135035  0.43590037 -0.3592106  -0.3592106 ]\n",
            " [ 0.81649658  0.75792714  0.75507839 -0.65447944 -0.8032886  -0.89818707\n",
            "  -0.68107482 -0.81207547 -0.76412433  0.78544312 -0.3592106  -0.3592106 ]\n",
            " [-1.22474487 -0.81019798 -1.51983728  1.46755287  2.23300978  2.31291864\n",
            "   2.27409127  2.37504185  2.25964148 -2.01089887  2.33486893  2.33486893]\n",
            " [ 0.81649658  0.62725005 -1.51983728  1.5569016   0.16252965  0.12277313\n",
            "   0.17966207  0.05485595  0.17104185 -0.3043078   0.53881591  0.53881591]\n",
            " [ 0.81649658  0.62725005 -1.51983728  1.5569016  -0.16986537 -0.05171795\n",
            "  -0.35496086 -0.34204259 -0.23386024  0.08635762 -0.3592106  -0.3592106 ]\n",
            " [-1.22474487 -1.33290635  0.63407224 -0.65447944 -0.60768229 -0.53605795\n",
            "  -0.27697771 -0.08851717 -0.49852861  0.49758438 -0.3592106  -0.3592106 ]\n",
            " [-1.22474487 -1.33290635  0.63407224 -0.65447944  0.64392665  0.69623282\n",
            "   0.48067932  0.62703069  0.59119346 -0.67441189  0.53881591  0.53881591]\n",
            " [ 0.81649658  1.01928133  0.63407224 -0.65447944 -0.98706935 -0.90269061\n",
            "  -0.86972988 -0.63917466 -0.95062177  1.09386319 -1.25723711 -1.25723711]]\n"
          ]
        }
      ]
    },
    {
      "cell_type": "markdown",
      "source": [
        "Calculate the Covariance Matrix"
      ],
      "metadata": {
        "id": "TUWqW6TJsCP4"
      }
    },
    {
      "cell_type": "code",
      "source": [
        "cov_matrix = np.cov(standardized_array, rowvar=False)\n",
        "\n",
        "print(cov_matrix)"
      ],
      "metadata": {
        "colab": {
          "base_uri": "https://localhost:8080/"
        },
        "id": "cFEmAWNEnp7b",
        "outputId": "db055687-3b24-477f-de50-00e564d8a955"
      },
      "execution_count": 96,
      "outputs": [
        {
          "output_type": "stream",
          "name": "stdout",
          "text": [
            "[[ 1.11111111  1.09068453 -0.11417017  0.1124691  -0.7659399  -0.76811256\n",
            "  -0.78552487 -0.83029691 -0.77659384  0.7703947  -0.69250027 -0.69250027]\n",
            " [ 1.09068453  1.11111111 -0.13128082  0.11721238 -0.71216827 -0.70740493\n",
            "  -0.73717032 -0.76722045 -0.72446233  0.74498667 -0.64934493 -0.64934493]\n",
            " [-0.11417017 -0.13128082  1.11111111 -1.10522472 -0.50985875 -0.55411124\n",
            "  -0.46331841 -0.4704149  -0.49715869  0.49863808 -0.57037961 -0.57037961]\n",
            " [ 0.1124691   0.11721238 -1.10522472  1.11111111  0.52469965  0.56280202\n",
            "   0.49311586  0.48942627  0.51734632 -0.52768481  0.59464923  0.59464923]\n",
            " [-0.7659399  -0.71216827 -0.50985875  0.52469965  1.11111111  1.1056822\n",
            "   1.08282664  1.06981029  1.10774696 -1.09829822  1.05673021  1.05673021]\n",
            " [-0.76811256 -0.70740493 -0.55411124  0.56280202  1.1056822   1.11111111\n",
            "   1.07387467  1.07676575  1.10106192 -1.08589405  1.05054107  1.05054107]\n",
            " [-0.78552487 -0.73717032 -0.46331841  0.49311586  1.08282664  1.07387467\n",
            "   1.11111111  1.09604077  1.09891531 -1.08915269  1.07581276  1.07581276]\n",
            " [-0.83029691 -0.76722045 -0.4704149   0.48942627  1.06981029  1.07676575\n",
            "   1.09604077  1.11111111  1.08508496 -1.06289113  1.05580287  1.05580287]\n",
            " [-0.77659384 -0.72446233 -0.49715869  0.51734632  1.10774696  1.10106192\n",
            "   1.09891531  1.08508496  1.11111111 -1.10155389  1.06951879  1.06951879]\n",
            " [ 0.7703947   0.74498667  0.49863808 -0.52768481 -1.09829822 -1.08589405\n",
            "  -1.08915269 -1.06289113 -1.10155389  1.11111111 -1.05904893 -1.05904893]\n",
            " [-0.69250027 -0.64934493 -0.57037961  0.59464923  1.05673021  1.05054107\n",
            "   1.07581276  1.05580287  1.06951879 -1.05904893  1.11111111  1.11111111]\n",
            " [-0.69250027 -0.64934493 -0.57037961  0.59464923  1.05673021  1.05054107\n",
            "   1.07581276  1.05580287  1.06951879 -1.05904893  1.11111111  1.11111111]]\n"
          ]
        }
      ]
    },
    {
      "cell_type": "markdown",
      "source": [
        "Eigen decomposition on the Covariance Matrix"
      ],
      "metadata": {
        "id": "SRuWgyKAsKKF"
      }
    },
    {
      "cell_type": "code",
      "source": [
        "eigen_values, eigen_vectors = np.linalg.eig(cov_matrix)\n",
        "\n",
        "print(eigen_values)\n",
        "print(eigen_vectors)"
      ],
      "metadata": {
        "colab": {
          "base_uri": "https://localhost:8080/"
        },
        "id": "wTTDJhD4pFDN",
        "outputId": "7cd450ee-0298-41fa-da53-b148ad1b899d"
      },
      "execution_count": 97,
      "outputs": [
        {
          "output_type": "stream",
          "name": "stdout",
          "text": [
            "[10.24529721  2.45883383  0.40355715  0.12099646  0.06134573  0.03848733\n",
            "  0.0040349   0.00052959  0.00025113  0.          0.          0.        ]\n",
            "[[-0.2385727   0.42295567  0.44585843 -0.00129212 -0.27763527  0.25545673\n",
            "   0.4013366   0.06447963 -0.02677638 -0.23011816  0.49198276 -0.1298563 ]\n",
            " [-0.22588056  0.42860263  0.55979702 -0.12128813  0.33671958 -0.17690511\n",
            "  -0.26492033 -0.0081714   0.026108    0.21281766 -0.45650817  0.12066398]\n",
            " [-0.16037148 -0.56179021  0.41406145  0.0440683  -0.08640073  0.18905914\n",
            "   0.17711502 -0.61414281 -0.04203024  0.06813831 -0.16900194  0.04724347]\n",
            " [ 0.16609825  0.55940646 -0.37232833  0.04343202 -0.07087124  0.24376461\n",
            "   0.0626357  -0.63861208 -0.06853702  0.07526127 -0.18523942  0.05164329]\n",
            " [ 0.32465753 -0.00041249  0.15641464 -0.3764967  -0.15490509 -0.2567781\n",
            "  -0.17464064 -0.1197934  -0.51182376 -0.57000703  0.31203392  0.02010883]\n",
            " [ 0.32485624  0.01863884  0.06357044 -0.40892013  0.10351187 -0.38884158\n",
            "   0.3870572  -0.17670874  0.61074998 -0.02180059  0.07478179 -0.02292247]\n",
            " [ 0.32486761 -0.02598286  0.18911382  0.07232459  0.16407217  0.52115608\n",
            "  -0.48641233 -0.02671273  0.43550805 -0.34147285  0.30203974 -0.03134632]\n",
            " [ 0.32377675 -0.03895582  0.05283721  0.02033339  0.6758363   0.29091771\n",
            "   0.4608418   0.15029241 -0.3351248   0.00496893 -0.03493782  0.01196975]\n",
            " [ 0.32660883 -0.00885532  0.16904903 -0.22325871 -0.04591077  0.01397353\n",
            "  -0.2720035  -0.10614255 -0.23042394  0.6213683  -0.00256273 -0.14918038]\n",
            " [-0.32465969  0.00880786 -0.11180195  0.22052283  0.5031058  -0.33799495\n",
            "  -0.16014172 -0.36125319 -0.04566633 -0.25094411  0.53806569 -0.14219573]\n",
            " [ 0.32044634  0.0555348   0.18657772  0.53309223 -0.1082655  -0.24543482\n",
            "   0.04762969 -0.00809012 -0.00098341  0.01349072 -0.02958518 -0.66998032]\n",
            " [ 0.32044634  0.0555348   0.18657772  0.53309223 -0.1082655  -0.24543482\n",
            "   0.04762969 -0.00809012 -0.00098341  0.01349072 -0.02958518  0.68576589]]\n"
          ]
        }
      ]
    },
    {
      "cell_type": "markdown",
      "source": [
        "Sort the Principal Components"
      ],
      "metadata": {
        "id": "AJL2a3OAsRD0"
      }
    },
    {
      "cell_type": "code",
      "source": [
        "# np.argsort can only provide lowest to highest; use [::-1] to reverse the list\n",
        "\n",
        "order_of_importance = np.argsort(eigen_values)[::-1]\n",
        "print('The order of importance is:\\n{}'.format(order_of_importance))\n",
        "\n",
        "# Utilize the sort order to sort eigenvalues and eigenvectors\n",
        "sorted_eigen_values = eigen_values[order_of_importance]\n",
        "print('\\n\\nSorted Eigenvalues:\\n{}'.format(sorted_eigen_values))\n",
        "\n",
        "sorted_eigen_vectors = eigen_vectors[:, order_of_importance]  # Sort the columns\n",
        "print('\\n\\nThe sorted eigenvector matrix is:\\n{}'.format(sorted_eigen_vectors))\n",
        "\n"
      ],
      "metadata": {
        "colab": {
          "base_uri": "https://localhost:8080/"
        },
        "id": "Jgj91SnzpTFe",
        "outputId": "fa0aa7a8-1b83-4ea4-a8f7-e43db76a9d32"
      },
      "execution_count": 98,
      "outputs": [
        {
          "output_type": "stream",
          "name": "stdout",
          "text": [
            "The order of importance is:\n",
            "[ 0  1  2  3  4  5  6  7  8 10  9 11]\n",
            "\n",
            "\n",
            "Sorted Eigenvalues:\n",
            "[10.24529721  2.45883383  0.40355715  0.12099646  0.06134573  0.03848733\n",
            "  0.0040349   0.00052959  0.00025113  0.          0.          0.        ]\n",
            "\n",
            "\n",
            "The sorted eigenvector matrix is:\n",
            "[[-0.2385727   0.42295567  0.44585843 -0.00129212 -0.27763527  0.25545673\n",
            "   0.4013366   0.06447963 -0.02677638  0.49198276 -0.23011816 -0.1298563 ]\n",
            " [-0.22588056  0.42860263  0.55979702 -0.12128813  0.33671958 -0.17690511\n",
            "  -0.26492033 -0.0081714   0.026108   -0.45650817  0.21281766  0.12066398]\n",
            " [-0.16037148 -0.56179021  0.41406145  0.0440683  -0.08640073  0.18905914\n",
            "   0.17711502 -0.61414281 -0.04203024 -0.16900194  0.06813831  0.04724347]\n",
            " [ 0.16609825  0.55940646 -0.37232833  0.04343202 -0.07087124  0.24376461\n",
            "   0.0626357  -0.63861208 -0.06853702 -0.18523942  0.07526127  0.05164329]\n",
            " [ 0.32465753 -0.00041249  0.15641464 -0.3764967  -0.15490509 -0.2567781\n",
            "  -0.17464064 -0.1197934  -0.51182376  0.31203392 -0.57000703  0.02010883]\n",
            " [ 0.32485624  0.01863884  0.06357044 -0.40892013  0.10351187 -0.38884158\n",
            "   0.3870572  -0.17670874  0.61074998  0.07478179 -0.02180059 -0.02292247]\n",
            " [ 0.32486761 -0.02598286  0.18911382  0.07232459  0.16407217  0.52115608\n",
            "  -0.48641233 -0.02671273  0.43550805  0.30203974 -0.34147285 -0.03134632]\n",
            " [ 0.32377675 -0.03895582  0.05283721  0.02033339  0.6758363   0.29091771\n",
            "   0.4608418   0.15029241 -0.3351248  -0.03493782  0.00496893  0.01196975]\n",
            " [ 0.32660883 -0.00885532  0.16904903 -0.22325871 -0.04591077  0.01397353\n",
            "  -0.2720035  -0.10614255 -0.23042394 -0.00256273  0.6213683  -0.14918038]\n",
            " [-0.32465969  0.00880786 -0.11180195  0.22052283  0.5031058  -0.33799495\n",
            "  -0.16014172 -0.36125319 -0.04566633  0.53806569 -0.25094411 -0.14219573]\n",
            " [ 0.32044634  0.0555348   0.18657772  0.53309223 -0.1082655  -0.24543482\n",
            "   0.04762969 -0.00809012 -0.00098341 -0.02958518  0.01349072 -0.66998032]\n",
            " [ 0.32044634  0.0555348   0.18657772  0.53309223 -0.1082655  -0.24543482\n",
            "   0.04762969 -0.00809012 -0.00098341 -0.02958518  0.01349072  0.68576589]]\n"
          ]
        }
      ]
    },
    {
      "cell_type": "markdown",
      "source": [
        "You want to see what percentage of information each eigen value holds."
      ],
      "metadata": {
        "id": "qpTNh7uzsZL3"
      }
    },
    {
      "cell_type": "code",
      "source": [
        "explained_variance = (sorted_eigen_values / np.sum(sorted_eigen_values)) * 100\n",
        "explained_variance =[\"{:.2f}%\".format(value) for value in explained_variance]\n",
        "print(explained_variance)"
      ],
      "metadata": {
        "colab": {
          "base_uri": "https://localhost:8080/"
        },
        "id": "rzuqgVHrq4fm",
        "outputId": "e753b72f-147a-4d6a-f19a-29868c18f9d0"
      },
      "execution_count": 99,
      "outputs": [
        {
          "output_type": "stream",
          "name": "stdout",
          "text": [
            "['76.84%', '18.44%', '3.03%', '0.91%', '0.46%', '0.29%', '0.03%', '0.00%', '0.00%', '0.00%', '0.00%', '0.00%']\n"
          ]
        }
      ]
    },
    {
      "cell_type": "markdown",
      "source": [
        "Initialize the number of Principle components then perfrom matrix multiplication with the variable K"
      ],
      "metadata": {
        "id": "322LELdgsf0v"
      }
    },
    {
      "cell_type": "code",
      "source": [
        "k = 3\n",
        "reduced_data = np.matmul(standardized_array, sorted_eigen_vectors[:, :k])# transform the original data\n",
        "\n",
        "print(reduced_data)"
      ],
      "metadata": {
        "colab": {
          "base_uri": "https://localhost:8080/"
        },
        "id": "Vfky5zRUrOsv",
        "outputId": "5091193b-8271-49c7-ee9b-c6418c9564c6"
      },
      "execution_count": 100,
      "outputs": [
        {
          "output_type": "stream",
          "name": "stdout",
          "text": [
            "[[-3.75141298  0.15205974 -0.03096503]\n",
            " [ 2.66996284 -1.8780594   0.2387649 ]\n",
            " [-1.81597178 -0.13622403  0.85823159]\n",
            " [-2.36734833 -0.11341548  0.63917468]\n",
            " [ 6.83406369  0.92171383  0.35461622]\n",
            " [ 0.83462079  2.39002074 -0.15970948]\n",
            " [-0.46678299  2.3235411  -0.79209793]\n",
            " [-0.66178285 -1.84183155 -1.24612696]\n",
            " [ 1.93464617 -1.78716937 -0.14057736]\n",
            " [-3.20999458 -0.03063557  0.27868937]]\n"
          ]
        }
      ]
    },
    {
      "cell_type": "code",
      "source": [
        "print(reduced_data.shape)"
      ],
      "metadata": {
        "colab": {
          "base_uri": "https://localhost:8080/"
        },
        "id": "yGEQ77FurjrS",
        "outputId": "05b79393-872d-43ce-b1b8-95e912cfdf41"
      },
      "execution_count": 101,
      "outputs": [
        {
          "output_type": "stream",
          "name": "stdout",
          "text": [
            "(10, 3)\n"
          ]
        }
      ]
    }
  ]
}